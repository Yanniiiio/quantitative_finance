{
 "cells": [
  {
   "cell_type": "markdown",
   "metadata": {},
   "source": [
    "### Assignment:\n",
    "\n",
    "Your task is to write functions that works. The objective is to strengthen your basic coding skills by writing some applicable mathematical functions. Here are the requirements:\n",
    "\n",
    "1. Make Sure your function runs normally\n",
    "2. Do not search direct solution from the web, but you can use https://www.runoob.com/python3/python3-tutorial.html?utm_source=wechat_session&utm_medium=social&utm_oi=29629385539584 and www.pythonprogramming.net to help you\n",
    "3. Have good fun and be proud of what you did :)\n",
    "\n",
    "Below I provided 2 example for you. Here is how you should present your code."
   ]
  },
  {
   "cell_type": "markdown",
   "metadata": {},
   "source": [
    "### EX1. Find the maximum of 2 values\n",
    "##### Input : a = 2, b = 3\n",
    "##### Output: 3"
   ]
  },
  {
   "cell_type": "code",
   "execution_count": 1,
   "metadata": {},
   "outputs": [],
   "source": [
    "def my_max(a, b):\n",
    "    if a > b:\n",
    "        print(a)\n",
    "    else:\n",
    "        print(b)\n",
    "    return "
   ]
  },
  {
   "cell_type": "code",
   "execution_count": 2,
   "metadata": {},
   "outputs": [
    {
     "name": "stdout",
     "output_type": "stream",
     "text": [
      "3\n"
     ]
    }
   ],
   "source": [
    "my_max(2, 3)"
   ]
  },
  {
   "cell_type": "markdown",
   "metadata": {},
   "source": [
    "### EX2. Calculate the sum of a list of values\n",
    "\n",
    "##### Input:  [1 ,2, 3, 4, 5]\n",
    "##### Output: 15"
   ]
  },
  {
   "cell_type": "code",
   "execution_count": 3,
   "metadata": {},
   "outputs": [],
   "source": [
    "def my_sum(numbers):\n",
    "    sum = 0\n",
    "    for num in numbers:\n",
    "        sum += num\n",
    "    return sum"
   ]
  },
  {
   "cell_type": "code",
   "execution_count": 4,
   "metadata": {},
   "outputs": [
    {
     "data": {
      "text/plain": [
       "15"
      ]
     },
     "execution_count": 4,
     "metadata": {},
     "output_type": "execute_result"
    }
   ],
   "source": [
    "my_sum([1,2,3,4,5])"
   ]
  },
  {
   "cell_type": "markdown",
   "metadata": {},
   "source": [
    "# Your turn, Good luck!\n",
    "\n",
    "### Q1. Find the minimum of 2 values (easy)\n",
    "##### Input:  x = 3.14, y = 3.141\n",
    "##### Output: 3.14"
   ]
  },
  {
   "cell_type": "code",
   "execution_count": null,
   "metadata": {},
   "outputs": [],
   "source": [
    "def my_min(x, y):\n",
    "    if x < y:\n",
    "        print(x)\n",
    "    else:\n",
    "        print(y)\n",
    "    return "\n"
   ]
  },
  {
   "cell_type": "code",
   "execution_count": null,
   "metadata": {},
   "outputs": [],
   "source": [
    "my_min(3.14, 3.141)"
   ]
  },
  {
   "cell_type": "markdown",
   "metadata": {},
   "source": [
    "### Q2. Find the remainder of a fraction\n",
    "##### Input:  n = 22 ; d = 7\n",
    "##### Output: 1"
   ]
  },
  {
   "cell_type": "code",
   "execution_count": null,
   "metadata": {},
   "outputs": [],
   "source": [
    "def my_remainder(n, d):\n",
    "    # Fill in your code here\n"
   ]
  },
  {
   "cell_type": "code",
   "execution_count": null,
   "metadata": {},
   "outputs": [],
   "source": [
    "my_remainder(22,7)"
   ]
  },
  {
   "cell_type": "markdown",
   "metadata": {},
   "source": [
    "### Q3. Find the maximum of a list of values (intermediate)\n",
    "##### Input:  [1, 2, 3, 4, 5]\n",
    "##### Output: 5"
   ]
  },
  {
   "cell_type": "code",
   "execution_count": null,
   "metadata": {},
   "outputs": [],
   "source": [
    "def my_max_list(numbers):\n"
   ]
  },
  {
   "cell_type": "code",
   "execution_count": null,
   "metadata": {},
   "outputs": [],
   "source": [
    "my_max_list([1,2,3,4,5])"
   ]
  },
  {
   "cell_type": "markdown",
   "metadata": {},
   "source": [
    "### Q4. Which numbers are the factor of x ? (intermediate)\n",
    "##### Input:  numbers = [85, 12, 55, 31, 63, 9, 0, 2, 130] ; x = 5\n",
    "##### Output: [85, 55, 0, 130]"
   ]
  },
  {
   "cell_type": "code",
   "execution_count": null,
   "metadata": {},
   "outputs": [],
   "source": [
    "def my_factors(numbers, x):"
   ]
  },
  {
   "cell_type": "code",
   "execution_count": null,
   "metadata": {},
   "outputs": [],
   "source": [
    "my_factors([85, 12, 55, 31, 63, 9, 15, 2, 130], 5)"
   ]
  },
  {
   "cell_type": "markdown",
   "metadata": {},
   "source": [
    "### Q5. Find duplicated numbers in a list of values (hard)\n",
    "\n",
    "##### Input:  [6, 1, 3, 0, 3, 2, 1, 6]\n",
    "##### Output: [6, 1, 3]"
   ]
  },
  {
   "cell_type": "code",
   "execution_count": null,
   "metadata": {},
   "outputs": [],
   "source": [
    "def dups(numbers):"
   ]
  },
  {
   "cell_type": "code",
   "execution_count": null,
   "metadata": {},
   "outputs": [],
   "source": [
    "dups([6,1,3,0,3,2,1,6])"
   ]
  }
 ],
 "metadata": {
  "kernelspec": {
   "display_name": "Python 3",
   "language": "python",
   "name": "python3"
  },
  "language_info": {
   "codemirror_mode": {
    "name": "ipython",
    "version": 3
   },
   "file_extension": ".py",
   "mimetype": "text/x-python",
   "name": "python",
   "nbconvert_exporter": "python",
   "pygments_lexer": "ipython3",
   "version": "3.8.4"
  }
 },
 "nbformat": 4,
 "nbformat_minor": 4
}
