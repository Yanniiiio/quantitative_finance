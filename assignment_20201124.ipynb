{
 "cells": [
  {
   "cell_type": "markdown",
   "metadata": {},
   "source": [
    "### Assignment 2\n",
    "\n",
    "Congratulations on completing the first assignment. Now, we will tackle some more basic functions to sharpen your programming skills. \n",
    "\n",
    "Below I provided some examples for you. "
   ]
  },
  {
   "cell_type": "markdown",
   "metadata": {},
   "source": [
    "### EX3. Financial data cleaning primer\n",
    "\n",
    "In this task I will guide you what can happen in financial datasets. (Things I deal always deal with)\n",
    "We have to know what is a separator. A separator is an instrument that splits up entries in some array."
   ]
  },
  {
   "cell_type": "code",
   "execution_count": 5,
   "metadata": {},
   "outputs": [
    {
     "data": {
      "text/plain": [
       "[('instrument', 'open_price', 'close_price'),\n",
       " ('IF1901', 121.15, 123.62),\n",
       " ('IF1902', 146.07, 153.77),\n",
       " ('IF1903', 153.3, 155.83),\n",
       " ('IF1904', 166.15, 167.3),\n",
       " ('IF1905', 172.51, 175.12)]"
      ]
     },
     "execution_count": 5,
     "metadata": {},
     "output_type": "execute_result"
    }
   ],
   "source": [
    "# When we collect data, we sometimes see this format. This format is not very ideal for analysis, because there are separator \";\" in between objects. \n",
    "# Our objective here is to separate these values and group them together in a tuple. Tuple is great for storing fix data types.\n",
    "# Remember, strings can be large in terms of memory usage. It is better to convert string numbers to integers or float. i.e. int(), float()\n",
    "\n",
    "instrument = 'IF1901;IF1902;IF1903;IF1904;IF1905'\n",
    "open       = '121.15;146.07;153.30;166.15;172.51'\n",
    "close      = '123.62;153.77;155.83;167.30;175.12'\n",
    "\n",
    "\n",
    "instrument = instrument.split(\";\")\n",
    "open       = open.split(\";\")\n",
    "close      = close.split(\";\")\n",
    "data = [('instrument', 'open_price', 'close_price')]\n",
    "\n",
    "for i in range(len(instrument)):\n",
    "    data.append((instrument[i], float(open[i]), float(close[i])))\n",
    "data"
   ]
  },
  {
   "cell_type": "markdown",
   "metadata": {},
   "source": [
    "##### For the next couple of class, we will start diving into numpy and pandas. These will be the most fundamental tools for data analysis in financial industry.\n",
    "\n",
    "# Your turn!"
   ]
  },
  {
   "cell_type": "markdown",
   "metadata": {},
   "source": [
    "### Q6. Find the average of a list of values\n",
    "\n",
    "##### Input : [2.3, 1.24, 212.4, 3.5, 1]\n",
    "##### Output: 44.088"
   ]
  },
  {
   "cell_type": "code",
   "execution_count": 1,
   "metadata": {},
   "outputs": [],
   "source": [
    "def mean(num):"
   ]
  },
  {
   "cell_type": "code",
   "execution_count": 2,
   "metadata": {},
   "outputs": [
    {
     "data": {
      "text/plain": [
       "44.088"
      ]
     },
     "execution_count": 2,
     "metadata": {},
     "output_type": "execute_result"
    }
   ],
   "source": [
    "mean([2.3, 1.24, 212.4, 3.5, 1])"
   ]
  },
  {
   "cell_type": "markdown",
   "metadata": {},
   "source": [
    "### Q7. Merge 2 sorted lists (Easy)\n",
    "\n",
    "This task require you to merge 2 list of integers together in ascending order. Simple\n",
    "\n",
    "##### Input: l1 = [2,1,3], l2 = [1,3,4]\n",
    "##### Output: [1,1,2,3,3,4]"
   ]
  },
  {
   "cell_type": "code",
   "execution_count": null,
   "metadata": {},
   "outputs": [],
   "source": [
    "def merge(l1, l2):"
   ]
  },
  {
   "cell_type": "code",
   "execution_count": null,
   "metadata": {},
   "outputs": [],
   "source": [
    "merge([2,1,3], [1,3,4])"
   ]
  },
  {
   "cell_type": "markdown",
   "metadata": {},
   "source": [
    "### Q8. Calculate the shortest distance among coordinates (Intermediate)\n",
    "\n",
    "In this example, coordinates would be presented as a tuple of 2 elements : (x, y). Your target is to find the shortest euclidean distance among these coordinates. \n",
    "\n",
    "##### The input of the coordinates is a list. \n",
    "##### The output is a list contains the followings: [d, c1 , c2]\n",
    "where d is the shortest distance among coordinate1 and coordinate2,\n",
    " and c1 and c2 are coordinate1 and coordinate 2 respectively"
   ]
  },
  {
   "cell_type": "code",
   "execution_count": null,
   "metadata": {},
   "outputs": [],
   "source": [
    "def shortest(coordinates):\n"
   ]
  },
  {
   "cell_type": "code",
   "execution_count": null,
   "metadata": {},
   "outputs": [],
   "source": [
    "shortest([(1,2), (12,5), (0.5,3), (7,-4), (-2,-13)])"
   ]
  },
  {
   "cell_type": "markdown",
   "metadata": {},
   "source": [
    "### Q9. Two Sums (Hard)\n",
    "\n",
    "Given an array of integers nums and an integer target, return indices of the two numbers such that they add up to target.\n",
    "\n",
    "You may assume that each input would have exactly one solution, and you may not use the same element twice.\n",
    "\n",
    "You can return the answer in any order.\n",
    "\n",
    "Example 1:\n",
    "\n",
    "##### Input: nums = [2,7,11,15], target = 9\n",
    "##### Output: [0,1]\n",
    "##### Output: Because nums[0] + nums[1] == 9, we return [0, 1].\n",
    "\n",
    "Example 2:\n",
    "\n",
    "##### Input: nums = [3,2,4], target = 6\n",
    "##### Output: [1,2]\n",
    "\n",
    "Example 3:\n",
    "\n",
    "##### Input: nums = [3,3], target = 6\n",
    "##### Output: [0,1]\n",
    "\n"
   ]
  },
  {
   "cell_type": "code",
   "execution_count": null,
   "metadata": {},
   "outputs": [],
   "source": [
    "def twoSum(nums, target):\n"
   ]
  },
  {
   "cell_type": "code",
   "execution_count": null,
   "metadata": {},
   "outputs": [],
   "source": [
    "twoSum([2,7,11,15], 9)"
   ]
  },
  {
   "cell_type": "code",
   "execution_count": null,
   "metadata": {},
   "outputs": [],
   "source": [
    "twoSum([3,2,4], 6)"
   ]
  },
  {
   "cell_type": "code",
   "execution_count": null,
   "metadata": {},
   "outputs": [],
   "source": [
    "twoSum([3,3], 6)"
   ]
  },
  {
   "cell_type": "markdown",
   "metadata": {},
   "source": [
    "### Q10. "
   ]
  },
  {
   "cell_type": "code",
   "execution_count": null,
   "metadata": {},
   "outputs": [],
   "source": []
  }
 ],
 "metadata": {
  "kernelspec": {
   "display_name": "Python 3",
   "language": "python",
   "name": "python3"
  },
  "language_info": {
   "codemirror_mode": {
    "name": "ipython",
    "version": 3
   },
   "file_extension": ".py",
   "mimetype": "text/x-python",
   "name": "python",
   "nbconvert_exporter": "python",
   "pygments_lexer": "ipython3",
   "version": "3.8.4"
  }
 },
 "nbformat": 4,
 "nbformat_minor": 4
}
