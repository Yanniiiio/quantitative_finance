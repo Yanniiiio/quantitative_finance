{
 "cells": [
  {
   "cell_type": "markdown",
   "metadata": {},
   "source": [
    "### Assignment 3: More mathematical application\n",
    "\n",
    "$$ e^{i \\pi} + 1 = 0 $$\n",
    "\n",
    "Just an example... haha\n",
    "\n",
    "This is more like an exercise of using numpy."
   ]
  },
  {
   "cell_type": "markdown",
   "metadata": {},
   "source": [
    "### EX1: Simulatanous Equation\n",
    "\n",
    "$$ ax_{1} + bx_{2} = h_{1} $$\n",
    "$$ cx_{1} + dx_{2} = h_{2} $$\n",
    "\n",
    "Your task is to write a function that returns x1 and x2. To complete this task, you need to understand basic linear algebra. \n",
    "\n",
    "Hint: Use matrices and vectors to solve this problem\n",
    "\n",
    "##### Input:  a = 2; b = 1; c = 1; d = -1, h1 = 5; h2 = 10\n",
    "##### Output: x1 = 5.0; x2 = -5.0"
   ]
  },
  {
   "cell_type": "code",
   "execution_count": 8,
   "metadata": {},
   "outputs": [],
   "source": [
    "# Write your formula here\n",
    "def simeqn(a, b, c, d, h1, h2):\n",
    "    import numpy as np\n",
    "    a = np.matrix([[a,b], [c,d]])\n",
    "    # Check singularity by rank\n",
    "    if np.linalg.matrix_rank(a) == a.ndim:\n",
    "        inv = np.linalg.inv(a)\n",
    "        b = np.array([h1, h2])\n",
    "        res = np.matmul(inv,b)\n",
    "        h1 = res.item(0,0)\n",
    "        h2 = res.item(0,1)\n",
    "    else:\n",
    "        raise 'ValueError: The matrix you provided is singular'\n",
    "    return print('x1 : ' + str(h1) + ' and x2: ' + str(h2))\n"
   ]
  },
  {
   "cell_type": "code",
   "execution_count": 9,
   "metadata": {},
   "outputs": [
    {
     "name": "stdout",
     "output_type": "stream",
     "text": [
      "x1 : 5.0 and x2: -5.0\n"
     ]
    }
   ],
   "source": [
    "# Test your result\n",
    "simeqn(2,1,1,-1,5,10)"
   ]
  },
  {
   "cell_type": "markdown",
   "metadata": {},
   "source": [
    "### EX2. Approximate the root of a non-linear equation"
   ]
  }
 ],
 "metadata": {
  "kernelspec": {
   "display_name": "Python 3",
   "language": "python",
   "name": "python3"
  },
  "language_info": {
   "codemirror_mode": {
    "name": "ipython",
    "version": 3
   },
   "file_extension": ".py",
   "mimetype": "text/x-python",
   "name": "python",
   "nbconvert_exporter": "python",
   "pygments_lexer": "ipython3",
   "version": "3.8.4"
  }
 },
 "nbformat": 4,
 "nbformat_minor": 4
}
